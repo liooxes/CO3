{
 "cells": [
  {
   "cell_type": "markdown",
   "id": "d913cc24-909b-4713-ac89-b59cf76819f3",
   "metadata": {
    "id": "d913cc24-909b-4713-ac89-b59cf76819f3"
   },
   "source": [
    "# Project"
   ]
  },
  {
   "cell_type": "markdown",
   "id": "00f6dda0-900e-4eaf-83cd-92af49099a95",
   "metadata": {
    "id": "00f6dda0-900e-4eaf-83cd-92af49099a95"
   },
   "source": [
    "## Import libraries"
   ]
  },
  {
   "cell_type": "code",
   "execution_count": 17,
   "id": "abdb1132-a261-4699-8e47-f791b71f0c76",
   "metadata": {
    "id": "abdb1132-a261-4699-8e47-f791b71f0c76"
   },
   "outputs": [
    {
     "ename": "ModuleNotFoundError",
     "evalue": "No module named 'google.colab'",
     "output_type": "error",
     "traceback": [
      "\u001b[0;31m---------------------------------------------------------------------------\u001b[0m",
      "\u001b[0;31mModuleNotFoundError\u001b[0m                       Traceback (most recent call last)",
      "Cell \u001b[0;32mIn[17], line 9\u001b[0m\n\u001b[1;32m      7\u001b[0m \u001b[38;5;28;01mimport\u001b[39;00m \u001b[38;5;21;01mrandom\u001b[39;00m\n\u001b[1;32m      8\u001b[0m \u001b[38;5;28;01mfrom\u001b[39;00m \u001b[38;5;21;01mgeneticalgorithm\u001b[39;00m \u001b[38;5;28;01mimport\u001b[39;00m geneticalgorithm \u001b[38;5;28;01mas\u001b[39;00m ga\n\u001b[0;32m----> 9\u001b[0m \u001b[38;5;28;01mfrom\u001b[39;00m \u001b[38;5;21;01mgoogle\u001b[39;00m\u001b[38;5;21;01m.\u001b[39;00m\u001b[38;5;21;01mcolab\u001b[39;00m \u001b[38;5;28;01mimport\u001b[39;00m files\n\u001b[1;32m     10\u001b[0m \u001b[38;5;28;01mfrom\u001b[39;00m \u001b[38;5;21;01mscipy\u001b[39;00m\u001b[38;5;21;01m.\u001b[39;00m\u001b[38;5;21;01mndimage\u001b[39;00m \u001b[38;5;28;01mimport\u001b[39;00m binary_dilation\n",
      "\u001b[0;31mModuleNotFoundError\u001b[0m: No module named 'google.colab'"
     ]
    }
   ],
   "source": [
    "import pandas as pd\n",
    "import numpy as np\n",
    "import matplotlib.pyplot as plt\n",
    "import matplotlib.colors as mcolors\n",
    "import matplotlib.patches as mpatches\n",
    "import statistics\n",
    "import random\n",
    "from geneticalgorithm import geneticalgorithm as ga\n",
    "from google.colab import files\n",
    "from scipy.ndimage import binary_dilation\n",
    "from scipy.ndimage import binary_dilation"
   ]
  },
  {
   "cell_type": "code",
   "execution_count": 2,
   "id": "cY4EYrhZrtZG",
   "metadata": {
    "colab": {
     "base_uri": "https://localhost:8080/",
     "height": 71
    },
    "id": "cY4EYrhZrtZG",
    "outputId": "a82d7490-5cad-43b3-8a07-200e80fa2ff4"
   },
   "outputs": [
    {
     "ename": "ModuleNotFoundError",
     "evalue": "No module named 'google.colab'",
     "output_type": "error",
     "traceback": [
      "\u001b[0;31m---------------------------------------------------------------------------\u001b[0m",
      "\u001b[0;31mModuleNotFoundError\u001b[0m                       Traceback (most recent call last)",
      "Cell \u001b[0;32mIn[2], line 1\u001b[0m\n\u001b[0;32m----> 1\u001b[0m \u001b[38;5;28;01mfrom\u001b[39;00m \u001b[38;5;21;01mgoogle\u001b[39;00m\u001b[38;5;21;01m.\u001b[39;00m\u001b[38;5;21;01mcolab\u001b[39;00m \u001b[38;5;28;01mimport\u001b[39;00m files\n\u001b[1;32m      3\u001b[0m uploaded \u001b[38;5;241m=\u001b[39m files\u001b[38;5;241m.\u001b[39mupload()  \u001b[38;5;66;03m# Opens file selection window\u001b[39;00m\n",
      "\u001b[0;31mModuleNotFoundError\u001b[0m: No module named 'google.colab'"
     ]
    }
   ],
   "source": [
    "#uploaded = files.upload()  # Opens file selection window"
   ]
  },
  {
   "cell_type": "markdown",
   "id": "619c5319-ba70-4322-bcb8-e75cd9e9e74e",
   "metadata": {
    "id": "619c5319-ba70-4322-bcb8-e75cd9e9e74e"
   },
   "source": [
    "## Loading Map and Temperature"
   ]
  },
  {
   "cell_type": "code",
   "execution_count": 5,
   "id": "fb2deeeb-24f7-4e95-8601-914601e73391",
   "metadata": {
    "id": "fb2deeeb-24f7-4e95-8601-914601e73391"
   },
   "outputs": [],
   "source": [
    "# ===============================================================\n",
    "# 1. Loading and preparation of the map\n",
    "# ===============================================================\n",
    "def load_map(filename='sample_grid.csv'):\n",
    "    df = pd.read_csv(filename)\n",
    "\n",
    "    # Mapping of types to numerical values\n",
    "    type_to_num = {'building': 0, 'road': 1, 'green_space': 2, 'water': 3}\n",
    "    num_to_type = {v: k for k, v in type_to_num.items()}\n",
    "    df['type_num'] = df['type'].map(type_to_num)\n",
    "\n",
    "    # Creating pivot tables for types and temperatures\n",
    "    type_pivot = df.pivot(index='y', columns='x', values='type_num')\n",
    "    temp_pivot = df.pivot(index='y', columns='x', values='temp_fac')\n",
    "\n",
    "    # Sort rows and columns by alignment\n",
    "    type_pivot = type_pivot.sort_index(ascending=True).sort_index(axis=1, ascending=True)\n",
    "    temp_pivot = temp_pivot.sort_index(ascending=True).sort_index(axis=1, ascending=True)\n",
    "\n",
    "    # Conversion to NumPy array for quick access\n",
    "    type_matrix = type_pivot.values\n",
    "    temp_matrix = temp_pivot.values\n",
    "\n",
    "    return type_matrix, temp_matrix, type_pivot, type_to_num, num_to_type\n",
    "\n",
    "# Loading the map\n",
    "type_matrix, temp_matrix, type_pivot, type_to_num, num_to_type = load_map('sample_grid.csv')\n",
    "H, W = type_matrix.shape"
   ]
  },
  {
   "cell_type": "markdown",
   "id": "5d381446-466d-4d14-9834-3092c25d14ef",
   "metadata": {
    "id": "5d381446-466d-4d14-9834-3092c25d14ef"
   },
   "source": [
    "# 1. Initial Condition"
   ]
  },
  {
   "cell_type": "markdown",
   "id": "1e4a62cf-cfe2-49aa-bf90-a33906acae54",
   "metadata": {
    "id": "1e4a62cf-cfe2-49aa-bf90-a33906acae54"
   },
   "source": [
    "## Data Visualisation"
   ]
  },
  {
   "cell_type": "markdown",
   "id": "db2bb4d9-6ceb-4107-a7a1-e95cf65d27b4",
   "metadata": {
    "jp-MarkdownHeadingCollapsed": true
   },
   "source": [
    "### Initial condition statistics "
   ]
  },
  {
   "cell_type": "code",
   "execution_count": 6,
   "id": "940dd623-2c5c-4cf0-92c2-4ce39456806e",
   "metadata": {},
   "outputs": [
    {
     "name": "stdout",
     "output_type": "stream",
     "text": [
      "=== Initial Statistics ===\n",
      "Mean: 29.85\n",
      "Max: 35.00\n",
      "Min: 22.50\n",
      "Variance: 5.60\n",
      "Median: 30.00\n"
     ]
    }
   ],
   "source": [
    "# Initial statistics\n",
    "original_mean = np.mean(temp_matrix)\n",
    "original_max = np.max(temp_matrix)\n",
    "original_min = np.min(temp_matrix)\n",
    "original_var = np.var(temp_matrix)\n",
    "original_median = np.median(temp_matrix)\n",
    "\n",
    "print(\"=== Initial Statistics ===\")\n",
    "print(\"Mean: {:.2f}\".format(original_mean))\n",
    "print(\"Max: {:.2f}\".format(original_max))\n",
    "print(\"Min: {:.2f}\".format(original_min))\n",
    "print(\"Variance: {:.2f}\".format(original_var))\n",
    "print(\"Median: {:.2f}\".format(original_median))\n",
    "\n",
    "# Defining limits for the temperature scale (for visualization)\n",
    "vmin = original_min\n",
    "vmax = original_max\n"
   ]
  },
  {
   "cell_type": "markdown",
   "id": "ca425b48-06e2-4a40-b656-2f49c816aefc",
   "metadata": {},
   "source": [
    "### Initial Heatmap plot"
   ]
  },
  {
   "cell_type": "code",
   "execution_count": 22,
   "id": "c16ef2fc-2f7f-4486-8c8f-13bfa789020d",
   "metadata": {},
   "outputs": [
    {
     "data": {
      "image/png": "[encoded data removed]",
      "text/plain": [
       "<Figure size 800x600 with 2 Axes>"
      ]
     },
     "metadata": {},
     "output_type": "display_data"
    }
   ],
   "source": [
    "# Calculate the mean and maximum temperature values\n",
    "mean_temp = np.mean(temp_matrix)\n",
    "max_temp = np.max(temp_matrix)\n",
    "\n",
    "# ===============================================================\n",
    "# Initial Heatmap plot\n",
    "# ===============================================================\n",
    "plt.figure(figsize=(8, 6))\n",
    "plt.imshow(temp_matrix, origin='lower', cmap='coolwarm', vmin=vmin, vmax=vmax)\n",
    "plt.title(\"Heatmap temperature initial condition\")\n",
    "cbar = plt.colorbar()\n",
    "cbar.set_label(\"Temperature\")\n",
    "\n",
    "# Add a legend in the upper left corner with mean and max temperature values\n",
    "plt.text(0.02, 0.98, f\"Mean: {mean_temp:.2f}\\nMax: {max_temp:.2f}\", \n",
    "         transform=plt.gca().transAxes, \n",
    "         fontsize=12, \n",
    "         verticalalignment='top', \n",
    "         bbox=dict(facecolor='white', alpha=0.5, edgecolor='none'))\n",
    "\n",
    "plt.tight_layout()\n",
    "plt.show()\n"
   ]
  },
  {
   "cell_type": "markdown",
   "id": "2DsVjN-rY_Vy",
   "metadata": {
    "id": "2DsVjN-rY_Vy"
   },
   "source": [
    "#### Heat Island Visualization"
   ]
  },
  {
   "cell_type": "code",
   "execution_count": 24,
   "id": "549f9076-67e1-4be5-a51f-b2088e74da00",
   "metadata": {},
   "outputs": [
    {
     "name": "stdout",
     "output_type": "stream",
     "text": [
      "Temperature threshold (85th percentile): 32.33\n"
     ]
    },
    {
     "data": {
      "image/png": "[encoded data removed]",
      "text/plain": [
       "<Figure size 800x600 with 2 Axes>"
      ]
     },
     "metadata": {},
     "output_type": "display_data"
    }
   ],
   "source": [
    "# ===============================================================\n",
    "# 2. Plot the original map using imshow\n",
    "# ===============================================================\n",
    "plt.figure(figsize=(8, 6))\n",
    "# Display the temperature map\n",
    "img = plt.imshow(temp_matrix, origin='lower', cmap='coolwarm', vmin=vmin, vmax=vmax)\n",
    "plt.title(\"Original Temperature Map\")\n",
    "\n",
    "\n",
    "# Colorbar\n",
    "cbar = plt.colorbar(img)\n",
    "cbar.set_label(\"Temperature\")\n",
    "\n",
    "# ===============================================================\n",
    "# 3. Define threshold and mask for the hottest regions\n",
    "# ===============================================================\n",
    "threshold = np.percentile(temp_matrix, 85)  # 85th percentile (change if needed)\n",
    "hot_mask = temp_matrix >= threshold\n",
    "print(f\"Temperature threshold (85th percentile): {threshold:.2f}\")\n",
    "\n",
    "# ===============================================================\n",
    "# 4. Draw contours for the hottest regions\n",
    "# ===============================================================\n",
    "# To align the contours with imshow (which uses origin='lower'),\n",
    "# we pass origin='lower'. Also, if you want the contours to align with the cells,\n",
    "# you can specify 'extent' as [0, W, 0, H].\n",
    "contours = plt.contour(\n",
    "    hot_mask, \n",
    "    levels=[0.5],       # Value halfway between False (0) and True (1)\n",
    "    colors='red',       # Contour color\n",
    "    linewidths=2,       \n",
    "    origin='lower'\n",
    ")\n",
    "plt.clabel(contours, inline=True, fontsize=8, fmt='HOT')\n",
    "\n",
    "# Add a legend in the upper left corner with mean and max temperature values\n",
    "plt.text(0.02, 0.98, f\"Mean: {mean_temp:.2f}\\nMax: {max_temp:.2f}\", \n",
    "         transform=plt.gca().transAxes, \n",
    "         fontsize=12, \n",
    "         verticalalignment='top', \n",
    "         bbox=dict(facecolor='white', alpha=0.5, edgecolor='none'))\n",
    "# If you want to highlight the inner cells (fill), you can use 'plt.contourf'\n",
    "# or 'np.where' to create an overlay.\n",
    "\n",
    "plt.tight_layout()\n",
    "plt.show()\n",
    "\n"
   ]
  },
  {
   "cell_type": "markdown",
   "id": "58af94a6-22a3-4d85-9756-d04cb6e335aa",
   "metadata": {},
   "source": [
    "### Other possibility"
   ]
  },
  {
   "cell_type": "markdown",
   "id": "8b440f1e-f2e9-4c09-8e54-6453052d089f",
   "metadata": {
    "jp-MarkdownHeadingCollapsed": true
   },
   "source": [
    "### Other Possibility"
   ]
  },
  {
   "cell_type": "code",
   "execution_count": 20,
   "id": "pwFJ-gzbZEHe",
   "metadata": {
    "colab": {
     "base_uri": "https://localhost:8080/",
     "height": 521
    },
    "id": "pwFJ-gzbZEHe",
    "outputId": "08db1088-342f-4926-eab8-8ff414168cb8"
   },
   "outputs": [
    {
     "data": {
      "image/png": "[encoded data removed]",
      "text/plain": [
       "<Figure size 800x600 with 2 Axes>"
      ]
     },
     "metadata": {},
     "output_type": "display_data"
    }
   ],
   "source": [
    "def get_heat_islands(temp_matrix,threshold=32):\n",
    "  from sklearn.cluster import DBSCAN\n",
    "\n",
    "  # Get grid dimensions\n",
    "  H, W = temp_matrix.shape\n",
    "\n",
    "  # Get all coordinates (y, x)\n",
    "  y_coords, x_coords = np.indices((H, W))\n",
    "  coords = np.column_stack((y_coords.ravel(), x_coords.ravel()))\n",
    "\n",
    "  # Flatten temperature matrix\n",
    "  temps = temp_matrix.ravel()\n",
    "\n",
    "  # Select hot regions\n",
    "  hot_mask = temps >= threshold\n",
    "  hot_coords = coords[hot_mask]\n",
    "\n",
    "  # Apply DBSCAN clustering to detect hot areas\n",
    "  dbscan = DBSCAN(eps=1.5, min_samples=3)\n",
    "  hot_clusters = dbscan.fit_predict(hot_coords)\n",
    "\n",
    "  # Create cluster grid (initialize with -1)\n",
    "  cluster_grid = np.full((H, W), fill_value=-1)\n",
    "  for (y, x), cluster_label in zip(hot_coords, hot_clusters):\n",
    "      cluster_grid[y, x] = cluster_label\n",
    "\n",
    "  return cluster_grid,hot_clusters\n",
    "\n",
    "def get_heat_island_edges(temp_matrix):\n",
    "  \n",
    "\n",
    "  cluster_grid,hot_clusters = get_heat_islands(temp_matrix)\n",
    "\n",
    "  # Identify cluster edges\n",
    "  edges = np.zeros_like(cluster_grid, dtype=bool)\n",
    "  for cluster_label in np.unique(hot_clusters[hot_clusters >= 0]):\n",
    "      cluster_mask = cluster_grid == cluster_label\n",
    "      dilated_mask = binary_dilation(cluster_mask, structure=np.ones((3, 3)))  # Use a 3x3 structuring element\n",
    "      edge = dilated_mask & cluster_mask  # Edges are within the hot regions\n",
    "      edges |= edge\n",
    "\n",
    "  return edges\n",
    "\n",
    "# Visualization: Heatmap with cluster edges\n",
    "plt.figure(figsize=(8, 6))\n",
    "plt.imshow(temp_matrix, cmap='coolwarm', interpolation='nearest')\n",
    "plt.colorbar(label=\"Temperature (°C)\")\n",
    "plt.contour(get_heat_island_edges(temp_matrix), colors='yellow', linewidths=1.5)\n",
    "plt.title(\"Original Heat Map with **Hot** Region Cluster Edges\")\n",
    "plt.axis('off')\n",
    "plt.show()"
   ]
  },
  {
   "cell_type": "markdown",
   "id": "8084629a-48ff-4f8d-9d52-8d1c925e6b25",
   "metadata": {
    "id": "8084629a-48ff-4f8d-9d52-8d1c925e6b25"
   },
   "source": [
    "## Problem parameter description"
   ]
  },
  {
   "cell_type": "code",
   "execution_count": null,
   "id": "b826fd92-a3c1-4a57-a444-251b17e78d2e",
   "metadata": {
    "id": "b826fd92-a3c1-4a57-a444-251b17e78d2e"
   },
   "outputs": [],
   "source": [
    "# ===============================================================\n",
    "# 2. Problem parameters and properties of the cooling elements\n",
    "# ===============================================================\n",
    "num_candidates = 20   # Maximum number of candidates (potential placements)\n",
    "budget_max = 6000     # Maximum budget in CHF\n",
    "\n",
    "# Tree properties:\n",
    "# Type 0: 'powerful' tree – high cost, greater cooling\n",
    "# Type 1: 'economical' tree – lower cost, less cooling\n",
    "tree_properties = {\n",
    "    0: {'cost': 300, 'cooling': 6, 'radius': 1},\n",
    "    1: {'cost': 300, 'cooling': 1, 'radius': 8}\n",
    "}\n",
    "\n",
    "# Fountain properties\n",
    "fountain_properties = {\n",
    "    'cost': 3500,\n",
    "    'cooling': 4.5,\n",
    "    'radius': 4\n",
    "}\n",
    "\n",
    "# Weight parameters for the multi-objective optimization\n",
    "w_mean = 1.0   # Weight for the mean temperature\n",
    "w_max  = 1.0   # Weight for the maximum temperature (hot spot)\n",
    "\n"
   ]
  },
  {
   "cell_type": "markdown",
   "id": "8a723e06-9b14-4766-b4d1-d857f7574c93",
   "metadata": {
    "id": "8a723e06-9b14-4766-b4d1-d857f7574c93"
   },
   "source": [
    "## Objective Function definition"
   ]
  },
  {
   "cell_type": "code",
   "execution_count": null,
   "id": "83691948-dea5-4c61-8741-968101c4143a",
   "metadata": {
    "id": "83691948-dea5-4c61-8741-968101c4143a"
   },
   "outputs": [],
   "source": [
    "# ===============================================================\n",
    "# 3. Funzione obiettivo multi-obiettivo\n",
    "# ===============================================================\n",
    "def objective(solution):\n",
    "    \"\"\"\n",
    "    Minimizza una funzione obiettivo multi-criterio che combina la temperatura media e\n",
    "    la temperatura massima finale dopo aver applicato l'effetto raffreddante.\n",
    "\n",
    "    Il vettore decisionale 'solution' ha dimensione 4 * num_candidates:\n",
    "      [row1, col1, active1, type1, ..., rowN, colN, activeN, typeN]\n",
    "\n",
    "    I possibili valori per 'type' sono:\n",
    "      - 0: Albero \"potente\"\n",
    "      - 1: Albero \"economico\"\n",
    "      - 2: Fontana (posizionabile solo in zone 'green_space')\n",
    "\n",
    "    Penalità:\n",
    "      - Posizione fuori dalla griglia.\n",
    "      - Albero su building.\n",
    "      - Fontana in zona diversa da 'green_space'.\n",
    "      - Costo totale oltre il budget.\n",
    "      - Raggio d'azione che esce dalla mappa.\n",
    "    \"\"\"\n",
    "    penalty = 0\n",
    "    total_cost = 0\n",
    "    active_elements = []  # Lista di tuple (row, col, candidate_type)\n",
    "\n",
    "    # Decodifica del vettore decisionale\n",
    "    for i in range(num_candidates):\n",
    "        row = int(round(solution[4*i]))\n",
    "        col = int(round(solution[4*i+1]))\n",
    "        active = 1 if int(round(solution[4*i+2])) >= 1 else 0\n",
    "        candidate_type = int(round(solution[4*i+3]))\n",
    "        candidate_type = max(0, min(2, candidate_type))  # Forza candidate_type in [0,2]\n",
    "\n",
    "        if active:\n",
    "            # Controllo: posizione valida nella griglia\n",
    "            if row < 0 or row >= H or col < 0 or col >= W:\n",
    "                penalty += 1e6\n",
    "                continue\n",
    "\n",
    "            # Controlli specifici per il tipo di elemento\n",
    "            if candidate_type == 2:\n",
    "                # La fontana deve essere posizionata solo in aree green_space\n",
    "                if type_matrix[row, col] != type_to_num['green_space']:\n",
    "                    penalty += 1e6\n",
    "                    continue\n",
    "                else:\n",
    "                    props = fountain_properties\n",
    "            else:\n",
    "                # Gli alberi non possono essere piazzati su building\n",
    "                if type_matrix[row, col] == type_to_num['building']:\n",
    "                    penalty += 1e6\n",
    "                    continue\n",
    "                else:\n",
    "                    props = tree_properties[candidate_type]\n",
    "\n",
    "            # Controllo che il raggio d'azione non esca dalla mappa\n",
    "            r_effect = props['radius']\n",
    "            if (row - r_effect < 0 or row + r_effect >= H or col - r_effect < 0 or col + r_effect >= W):\n",
    "                penalty += 1e6\n",
    "\n",
    "            total_cost += props['cost']\n",
    "            active_elements.append((row, col, candidate_type))\n",
    "\n",
    "    # Penalità se il costo totale supera il budget\n",
    "    if total_cost > budget_max:\n",
    "        penalty += 1e6 * (total_cost - budget_max)\n",
    "\n",
    "    # Applicazione dell'effetto raffreddante con modello gaussiano\n",
    "    final_temp = np.copy(temp_matrix)\n",
    "    Y, X = np.indices((H, W))\n",
    "    for (row_center, col_center, candidate_type) in active_elements:\n",
    "        if candidate_type == 2:\n",
    "            props = fountain_properties\n",
    "        else:\n",
    "            props = tree_properties[candidate_type]\n",
    "        sigma = props['radius'] / 2.0\n",
    "        dist2 = (Y - row_center)**2 + (X - col_center)**2\n",
    "        effect = props['cooling'] * np.exp(-dist2 / (2 * sigma**2))\n",
    "        final_temp -= effect\n",
    "\n",
    "    # Calcolo dei due criteri: temperatura media e massima\n",
    "    avg_temp = np.mean(final_temp)\n",
    "    max_temp = np.max(final_temp)\n",
    "\n",
    "    # Funzione obiettivo multi-criterio: combinazione pesata\n",
    "    objective_value = w_mean * avg_temp + w_max * max_temp + penalty\n",
    "    return objective_value\n"
   ]
  },
  {
   "cell_type": "markdown",
   "id": "X4UjbQOVtK03",
   "metadata": {
    "id": "X4UjbQOVtK03"
   },
   "source": [
    "## GA definition"
   ]
  },
  {
   "cell_type": "markdown",
   "id": "DbCKq_Y0tK03",
   "metadata": {
    "id": "DbCKq_Y0tK03"
   },
   "source": [
    "### decisional vectomr definition"
   ]
  },
  {
   "cell_type": "code",
   "execution_count": null,
   "id": "_BY4GJC3tK03",
   "metadata": {
    "id": "_BY4GJC3tK03"
   },
   "outputs": [],
   "source": [
    "# ===============================================================\n",
    "# 4. Definizione del vettore decisionale per il GA\n",
    "# ===============================================================\n",
    "# Ogni candidato ha 4 variabili: row, col, active, type\n",
    "# Il bound per 'type' ora è [0, 2]: 0 e 1 per alberi, 2 per fontana\n",
    "var_bound = []\n",
    "for _ in range(num_candidates):\n",
    "    var_bound.append([0, H-1])  # row\n",
    "    var_bound.append([0, W-1])  # col\n",
    "    var_bound.append([0, 1])    # active\n",
    "    var_bound.append([0, 2])    # type\n",
    "var_bound = np.array(var_bound)\n"
   ]
  },
  {
   "cell_type": "markdown",
   "id": "akjWneR7tK04",
   "metadata": {
    "id": "akjWneR7tK04"
   },
   "source": [
    "### Algorhitm parameter"
   ]
  },
  {
   "cell_type": "code",
   "execution_count": null,
   "id": "Ny5fZsB4tK04",
   "metadata": {
    "id": "Ny5fZsB4tK04"
   },
   "outputs": [],
   "source": [
    "# ===============================================================\n",
    "# 5. Parametri dell'algoritmo genetico\n",
    "# ===============================================================\n",
    "params = {\n",
    "    'max_num_iteration': 1000,\n",
    "    'population_size': 100,\n",
    "    'mutation_probability': 0.2,\n",
    "    'elit_ratio': 0.05,\n",
    "    'crossover_probability': 0.7,\n",
    "    'parents_portion': 0.3,\n",
    "    'crossover_type': 'uniform',\n",
    "    'max_iteration_without_improv': 500\n",
    "}"
   ]
  },
  {
   "cell_type": "markdown",
   "id": "f448e80b-4d07-4a23-8c25-866b3c3525e1",
   "metadata": {
    "id": "f448e80b-4d07-4a23-8c25-866b3c3525e1"
   },
   "source": [
    "# Single-Run"
   ]
  },
  {
   "cell_type": "code",
   "execution_count": null,
   "id": "f34e60c3-0e6f-4311-abe7-d5b85990f1d9",
   "metadata": {
    "id": "f34e60c3-0e6f-4311-abe7-d5b85990f1d9",
    "outputId": "a8cdc33d-b98d-4709-aad1-5eb2aa375596"
   },
   "outputs": [],
   "source": [
    "# ===============================================================\n",
    "# 6. Esecuzione di un singolo run e visualizzazione dei risultati\n",
    "# ===============================================================\n",
    "model = ga(function=objective,\n",
    "           dimension=4 * num_candidates,\n",
    "           variable_type='int',\n",
    "           variable_boundaries=var_bound,\n",
    "           algorithm_parameters=params)\n",
    "\n",
    "model.run()\n",
    "best_sol = model.output_dict['variable']\n",
    "print(\"\\n--- Risultato del singolo run ---\")\n",
    "print(\"Migliore soluzione trovata:\", best_sol)\n",
    "\n",
    "# Estrazione degli elementi piazzati dalla soluzione migliore\n",
    "placed_elements = []  # Lista di tuple (row, col, candidate_type)\n",
    "total_cost = 0\n",
    "for i in range(num_candidates):\n",
    "    row = int(round(best_sol[4*i]))\n",
    "    col = int(round(best_sol[4*i + 1]))\n",
    "    active = 1 if int(round(best_sol[4*i + 2])) >= 1 else 0\n",
    "    candidate_type = int(round(best_sol[4*i + 3]))\n",
    "    candidate_type = max(0, min(2, candidate_type))\n",
    "\n",
    "    if active:\n",
    "        if candidate_type == 2:\n",
    "            total_cost += fountain_properties['cost']\n",
    "        else:\n",
    "            total_cost += tree_properties[candidate_type]['cost']\n",
    "        placed_elements.append((row, col, candidate_type))\n",
    "\n",
    "print(\"Elementi piazzati (alberi e fontane):\", len(placed_elements))\n",
    "for (row, col, candidate_type) in placed_elements:\n",
    "    if candidate_type == 2:\n",
    "        element_str = \"Fontana\"\n",
    "    elif candidate_type == 0:\n",
    "        element_str = \"Albero potente\"\n",
    "    else:\n",
    "        element_str = \"Albero economico\"\n",
    "    print(f\"Posizione: ({row}, {col}) - Tipo: {element_str}\")\n",
    "print(\"Costo totale:\", total_cost)\n",
    "\n",
    "# Calcolo della mappa finale delle temperature con effetto raffreddante\n",
    "final_temp_opt = np.copy(temp_matrix)\n",
    "Y, X = np.indices((H, W))\n",
    "for (row_center, col_center, candidate_type) in placed_elements:\n",
    "    if candidate_type == 2:\n",
    "        props = fountain_properties\n",
    "    else:\n",
    "        props = tree_properties[candidate_type]\n",
    "    rad = props['radius']\n",
    "    cool = props['cooling']\n",
    "    mask = (Y - row_center)**2 + (X - col_center)**2 <= rad**2\n",
    "    final_temp_opt[mask] -= cool\n",
    "\n",
    "# Statistiche finali\n",
    "final_mean = np.mean(final_temp_opt)\n",
    "final_max = np.max(final_temp_opt)\n",
    "final_min = np.min(final_temp_opt)\n",
    "final_var = np.var(final_temp_opt)\n",
    "final_median = np.median(final_temp_opt)\n",
    "\n",
    "print(\"\\n=== Statistiche finali ottimizzate ===\")\n",
    "print(\"Media: {:.2f}\".format(final_mean))\n",
    "print(\"Massimo: {:.2f}\".format(final_max))\n",
    "print(\"Minimo: {:.2f}\".format(final_min))\n",
    "print(\"Varianza: {:.2f}\".format(final_var))\n",
    "print(\"Mediana: {:.2f}\".format(final_median))\n",
    "\n",
    "# Calcolo e stampa dei miglioramenti in percentuale\n",
    "perc_mean = 100 * (original_mean - final_mean) / original_mean\n",
    "perc_max = 100 * (original_max - final_max) / original_max\n",
    "print(\"\\nMiglioramento della media: {:.2f}%\".format(perc_mean))\n",
    "print(\"Riduzione del valore massimo: {:.2f}%\".format(perc_max))\n",
    "\n",
    "# Visualizzazione della mappa delle temperature ottimizzate\n",
    "plt.figure(figsize=(8, 6))\n",
    "plt.imshow(final_temp_opt, origin='lower', cmap='coolwarm', vmin=vmin, vmax=vmax)\n",
    "plt.title(\"Mappa delle temperature ottimizzate\")\n",
    "plt.xlabel(\"X\")\n",
    "plt.ylabel(\"Y\")\n",
    "cbar = plt.colorbar()\n",
    "cbar.set_label(\"Temperatura\")\n",
    "plt.tight_layout()\n",
    "plt.show()\n",
    "\n",
    "# Istogramma a confronto tra le temperature originali e quelle ottimizzate\n",
    "plt.figure(figsize=(8, 6))\n",
    "plt.hist(temp_matrix.flatten(), bins=30, alpha=0.5, label='Originali')\n",
    "plt.hist(final_temp_opt.flatten(), bins=30, alpha=0.5, label='Ottimizzate')\n",
    "plt.title(\"Istogramma delle temperature\")\n",
    "plt.xlabel(\"Temperatura\")\n",
    "plt.ylabel(\"Frequenza\")\n",
    "plt.legend()\n",
    "plt.tight_layout()\n",
    "plt.show()\n",
    "\n",
    "# Boxplot per confrontare le distribuzioni\n",
    "plt.figure(figsize=(8, 6))\n",
    "data = [temp_matrix.flatten(), final_temp_opt.flatten()]\n",
    "plt.boxplot(data, labels=['Originali', 'Ottimizzate'])\n",
    "plt.title(\"Boxplot delle temperature\")\n",
    "plt.ylabel(\"Temperatura\")\n",
    "plt.tight_layout()\n",
    "plt.show()\n",
    "\n",
    "# Mappa della differenza tra le temperature originali e quelle ottimizzate\n",
    "diff_temp = temp_matrix - final_temp_opt\n",
    "plt.figure(figsize=(8, 6))\n",
    "plt.imshow(diff_temp, origin='lower', cmap='viridis')\n",
    "plt.title(\"Differenza di temperatura (Originale - Ottimizzata)\")\n",
    "plt.xlabel(\"X\")\n",
    "plt.ylabel(\"Y\")\n",
    "cbar = plt.colorbar()\n",
    "cbar.set_label(\"Δ Temperatura\")\n",
    "plt.tight_layout()\n",
    "plt.show()\n",
    "\n",
    "# Plot a contorni della differenza di temperatura\n",
    "plt.figure(figsize=(8, 6))\n",
    "levels = np.linspace(np.min(diff_temp), np.max(diff_temp), 20)\n",
    "contour = plt.contourf(diff_temp, levels=levels, cmap='viridis')\n",
    "plt.title(\"Contorni della differenza di temperatura\")\n",
    "plt.xlabel(\"X\")\n",
    "plt.ylabel(\"Y\")\n",
    "cbar = plt.colorbar(contour)\n",
    "cbar.set_label(\"Δ Temperatura\")\n",
    "plt.tight_layout()\n",
    "plt.show()\n",
    "\n",
    "# Scatter plot delle posizioni degli elementi sovrapposto alla mappa a contorni della differenza\n",
    "plt.figure(figsize=(8, 6))\n",
    "plt.contourf(diff_temp, levels=levels, cmap='viridis')\n",
    "for (row_i, col_i, candidate_type) in placed_elements:\n",
    "    if candidate_type == 2:\n",
    "        marker = 's'\n",
    "        color = 'magenta'\n",
    "    elif candidate_type == 0:\n",
    "        marker = 'o'\n",
    "        color = 'yellow'\n",
    "    else:\n",
    "        marker = 'o'\n",
    "        color = 'cyan'\n",
    "    plt.scatter(col_i, row_i, marker=marker, s=100, edgecolor='black', color=color)\n",
    "plt.title(\"Posizioni degli elementi sulla mappa a contorni della differenza\")\n",
    "plt.xlabel(\"X\")\n",
    "plt.ylabel(\"Y\")\n",
    "plt.tight_layout()\n",
    "plt.show()\n",
    "\n",
    "# Sezione della mappa: andamento della temperatura lungo la riga centrale\n",
    "row_central = H // 2\n",
    "plt.figure(figsize=(8, 6))\n",
    "plt.plot(temp_matrix[row_central, :], label='Originali', marker='o')\n",
    "plt.plot(final_temp_opt[row_central, :], label='Ottimizzate', marker='s')\n",
    "plt.title(\"Andamento della temperatura lungo la riga centrale\")\n",
    "plt.xlabel(\"Colonna\")\n",
    "plt.ylabel(\"Temperatura\")\n",
    "plt.legend()\n",
    "plt.tight_layout()\n",
    "plt.show()"
   ]
  },
  {
   "cell_type": "markdown",
   "id": "754663d1-8b7e-4846-af21-dfdd58eef143",
   "metadata": {
    "id": "754663d1-8b7e-4846-af21-dfdd58eef143",
    "jp-MarkdownHeadingCollapsed": true
   },
   "source": [
    "# Multi-Run"
   ]
  },
  {
   "cell_type": "code",
   "execution_count": null,
   "id": "a73651f1-f0b9-45bc-be1d-1cd6700bf37b",
   "metadata": {
    "id": "a73651f1-f0b9-45bc-be1d-1cd6700bf37b",
    "outputId": "e13d2c24-e48c-4565-c072-6c614b6b985f"
   },
   "outputs": [],
   "source": [
    "# ===============================================================\n",
    "# 7. (Aggiornato) Loop multiplo per l'analisi statistica (multi-run)\n",
    "# ===============================================================\n",
    "num_runs = 30  # Numero di simulazioni (\"Sun\")\n",
    "\n",
    "final_temps = []             # Lista delle temperature medie finali per ogni run\n",
    "placed_elements_counts = []    # Numero di elementi piazzati per ogni run\n",
    "total_costs = []             # Costo totale per ogni run\n",
    "all_solutions = []           # Soluzioni ottenute\n",
    "all_elements_details = []    # Dettagli degli elementi piazzati per ogni run\n",
    "all_final_temp_matrices = [] # Matrici finali delle temperature per ogni run\n",
    "\n",
    "print(\"\\n--- Inizio Loop multiplo per analisi statistica ---\")\n",
    "for run in range(num_runs):\n",
    "    print(f\"\\nSun {run+1}/{num_runs}\")  # Stampa il numero della simulazione corrente\n",
    "\n",
    "    model = ga(function=objective,\n",
    "               dimension=4 * num_candidates,\n",
    "               variable_type='int',\n",
    "               variable_boundaries=var_bound,\n",
    "               algorithm_parameters=params)\n",
    "    model.run()\n",
    "    best_sol = model.output_dict['variable']\n",
    "    all_solutions.append(best_sol)\n",
    "\n",
    "    placed_elements = []\n",
    "    run_cost = 0\n",
    "    for i in range(num_candidates):\n",
    "        row = int(round(best_sol[4*i]))\n",
    "        col = int(round(best_sol[4*i + 1]))\n",
    "        active = 1 if int(round(best_sol[4*i + 2])) >= 1 else 0\n",
    "        candidate_type = int(round(best_sol[4*i + 3]))\n",
    "        candidate_type = max(0, min(2, candidate_type))\n",
    "        if active:\n",
    "            placed_elements.append((row, col, candidate_type))\n",
    "            if candidate_type == 2:\n",
    "                run_cost += fountain_properties['cost']\n",
    "            else:\n",
    "                run_cost += tree_properties[candidate_type]['cost']\n",
    "\n",
    "    placed_elements_counts.append(len(placed_elements))\n",
    "    total_costs.append(run_cost)\n",
    "    all_elements_details.append(placed_elements)\n",
    "\n",
    "    # Calcolo della mappa finale per il run corrente\n",
    "    final_temp_opt = np.copy(temp_matrix)\n",
    "    Y, X = np.indices((H, W))\n",
    "    for (row_center, col_center, candidate_type) in placed_elements:\n",
    "        if candidate_type == 2:\n",
    "            props = fountain_properties\n",
    "        else:\n",
    "            props = tree_properties[candidate_type]\n",
    "        rad = props['radius']\n",
    "        cool = props['cooling']\n",
    "        mask = (Y - row_center)**2 + (X - col_center)**2 <= rad**2\n",
    "        final_temp_opt[mask] -= cool\n",
    "    run_temp = np.mean(final_temp_opt)\n",
    "    final_temps.append(run_temp)\n",
    "    all_final_temp_matrices.append(final_temp_opt.copy())\n",
    "\n",
    "    print(f\"Sun {run+1}: Temperatura finale = {run_temp:.2f}, Elementi piazzati = {len(placed_elements)}, Costo totale = {run_cost}\")\n",
    "\n",
    "# ===============================================================\n",
    "# 8. Analisi statistica aggregata dei risultati multi-run\n",
    "# ===============================================================\n",
    "import pandas as pd\n",
    "\n",
    "runs_df = pd.DataFrame({\n",
    "    'Final_Temp': final_temps,\n",
    "    'Placed_Elements': placed_elements_counts,\n",
    "    'Total_Cost': total_costs\n",
    "})\n",
    "print(\"\\n--- Risultati aggregati ---\")\n",
    "print(runs_df.describe())\n",
    "\n",
    "# Grafici statistici aggregati\n",
    "plt.figure(figsize=(8,6))\n",
    "plt.boxplot([runs_df['Final_Temp'], runs_df['Placed_Elements'], runs_df['Total_Cost']],\n",
    "            labels=['Final Temp', 'Placed Elements', 'Total Cost'])\n",
    "plt.title(\"Boxplot dei risultati aggregati\")\n",
    "plt.tight_layout()\n",
    "plt.show()\n",
    "\n",
    "plt.figure(figsize=(8,6))\n",
    "plt.hist(runs_df['Final_Temp'], bins=10, alpha=0.7, label='Final Temp')\n",
    "plt.hist(runs_df['Placed_Elements'], bins=10, alpha=0.7, label='Placed Elements')\n",
    "plt.hist(runs_df['Total_Cost'], bins=10, alpha=0.7, label='Total Cost')\n",
    "plt.title(\"Istogrammi dei risultati aggregati\")\n",
    "plt.xlabel(\"Valori\")\n",
    "plt.ylabel(\"Frequenza\")\n",
    "plt.legend()\n",
    "plt.tight_layout()\n",
    "plt.show()\n",
    "\n",
    "plt.figure(figsize=(8,6))\n",
    "plt.scatter(runs_df['Total_Cost'], runs_df['Final_Temp'])\n",
    "plt.title(\"Scatter: Total Cost vs. Final Temp\")\n",
    "plt.xlabel(\"Total Cost\")\n",
    "plt.ylabel(\"Final Temp\")\n",
    "plt.tight_layout()\n",
    "plt.show()\n",
    "\n",
    "# Grafici evolutivi per ogni Sun\n",
    "plt.figure(figsize=(8,6))\n",
    "plt.plot(range(1, num_runs+1), final_temps, marker='o', linestyle='-')\n",
    "plt.title(\"Evoluzione della temperatura finale per Sun\")\n",
    "plt.xlabel(\"Sun\")\n",
    "plt.ylabel(\"Final Temp\")\n",
    "plt.tight_layout()\n",
    "plt.show()\n",
    "\n",
    "plt.figure(figsize=(8,6))\n",
    "plt.plot(range(1, num_runs+1), total_costs, marker='s', linestyle='-')\n",
    "plt.title(\"Evoluzione del costo totale per Sun\")\n",
    "plt.xlabel(\"Sun\")\n",
    "plt.ylabel(\"Total Cost\")\n",
    "plt.tight_layout()\n",
    "plt.show()\n",
    "\n",
    "plt.figure(figsize=(8,6))\n",
    "plt.plot(range(1, num_runs+1), placed_elements_counts, marker='^', linestyle='-')\n",
    "plt.title(\"Evoluzione degli elementi piazzati per Sun\")\n",
    "plt.xlabel(\"Sun\")\n",
    "plt.ylabel(\"Placed Elements\")\n",
    "plt.tight_layout()\n",
    "plt.show()\n",
    "\n",
    "# Selezione delle simulazioni migliori:\n",
    "#   - Simulazione con costo totale minimo (meno spesa)\n",
    "#   - Simulazione con temperatura finale minima (miglior abbassamento)\n",
    "import numpy as np\n",
    "\n",
    "best_cost_index = np.argmin(total_costs)\n",
    "best_temp_index = np.argmin(final_temps)\n",
    "\n",
    "print(\"\\n--- Migliore simulazione per costo ---\")\n",
    "print(f\"Sun {best_cost_index+1}: Costo totale = {total_costs[best_cost_index]}, Temperatura finale = {final_temps[best_cost_index]:.2f}, Elementi piazzati = {placed_elements_counts[best_cost_index]}\")\n",
    "print(\"Dettagli degli elementi:\", all_elements_details[best_cost_index])\n",
    "\n",
    "print(\"\\n--- Migliore simulazione per temperatura ---\")\n",
    "print(f\"Sun {best_temp_index+1}: Costo totale = {total_costs[best_temp_index]}, Temperatura finale = {final_temps[best_temp_index]:.2f}, Elementi piazzati = {placed_elements_counts[best_temp_index]}\")\n",
    "print(\"Dettagli degli elementi:\", all_elements_details[best_temp_index])\n",
    "\n",
    "# ===============================================================\n",
    "# 9. Visualizzazione delle simulazioni migliori\n",
    "# ===============================================================\n",
    "# Definizioni comuni per la visualizzazione\n",
    "cmap_types = mcolors.ListedColormap(['tab:red', 'tab:gray', 'tab:green', 'tab:blue'])\n",
    "bounds = [-0.5, 0.5, 1.5, 2.5, 3.5]\n",
    "norm = mcolors.BoundaryNorm(bounds, cmap_types.N)\n",
    "tree_color = {0: 'yellow', 1: 'cyan', 2: 'magenta'}  # Colori per gli elementi\n",
    "\n",
    "# ----------------------------\n",
    "# Visualizzazione simulazione migliore per costo\n",
    "# ----------------------------\n",
    "best_cost_elements = all_elements_details[best_cost_index]\n",
    "best_cost_temp_matrix = all_final_temp_matrices[best_cost_index]\n",
    "\n",
    "fig, ax = plt.subplots(figsize=(10,8))\n",
    "ax.imshow(type_pivot, origin='lower', cmap=cmap_types, norm=norm)\n",
    "for (row, col, candidate_type) in best_cost_elements:\n",
    "    if candidate_type == 2:\n",
    "        label = \"Fontana\"\n",
    "    elif candidate_type == 0:\n",
    "        label = \"Albero potente\"\n",
    "    else:\n",
    "        label = \"Albero economico\"\n",
    "    circle = plt.Circle((col, row),\n",
    "                        fountain_properties['radius'] if candidate_type==2 else tree_properties[candidate_type]['radius'],\n",
    "                        color=tree_color[candidate_type], fill=False, linewidth=2)\n",
    "    ax.add_patch(circle)\n",
    "    ax.plot(col, row, 'ko', markersize=8)\n",
    "    ax.text(col, row, label, color=tree_color[candidate_type],\n",
    "            fontsize=10, fontweight='bold', ha='center', va='center')\n",
    "ax.set_title(\"Simulazione Migliore per COSTO - Posizionamento Elementi\")\n",
    "ax.set_xlabel(\"X\")\n",
    "ax.set_ylabel(\"Y\")\n",
    "plt.tight_layout()\n",
    "plt.show()\n",
    "\n",
    "plt.figure(figsize=(8,6))\n",
    "plt.imshow(best_cost_temp_matrix, origin='lower', cmap='coolwarm', vmin=vmin, vmax=vmax)\n",
    "plt.title(\"Simulazione Migliore per COSTO - Heatmap della Temperatura Finale\")\n",
    "plt.xlabel(\"X\")\n",
    "plt.ylabel(\"Y\")\n",
    "cbar = plt.colorbar()\n",
    "cbar.set_label(\"Temperatura\")\n",
    "plt.tight_layout()\n",
    "plt.show()\n",
    "\n",
    "# ----------------------------\n",
    "# Visualizzazione simulazione migliore per temperatura\n",
    "# ----------------------------\n",
    "best_temp_elements = all_elements_details[best_temp_index]\n",
    "best_temp_temp_matrix = all_final_temp_matrices[best_temp_index]\n",
    "\n",
    "fig, ax = plt.subplots(figsize=(10,8))\n",
    "ax.imshow(type_pivot, origin='lower', cmap=cmap_types, norm=norm)\n",
    "for (row, col, candidate_type) in best_temp_elements:\n",
    "    if candidate_type == 2:\n",
    "        label = \"Fontana\"\n",
    "    elif candidate_type == 0:\n",
    "        label = \"Albero potente\"\n",
    "    else:\n",
    "        label = \"Albero economico\"\n",
    "    circle = plt.Circle((col, row),\n",
    "                        fountain_properties['radius'] if candidate_type==2 else tree_properties[candidate_type]['radius'],\n",
    "                        color=tree_color[candidate_type], fill=False, linewidth=2)\n",
    "    ax.add_patch(circle)\n",
    "    ax.plot(col, row, 'ko', markersize=8)\n",
    "    ax.text(col, row, label, color=tree_color[candidate_type],\n",
    "            fontsize=10, fontweight='bold', ha='center', va='center')\n",
    "ax.set_title(\"Simulazione Migliore per TEMPERATURA - Posizionamento Elementi\")\n",
    "ax.set_xlabel(\"X\")\n",
    "ax.set_ylabel(\"Y\")\n",
    "plt.tight_layout()\n",
    "plt.show()\n",
    "\n",
    "plt.figure(figsize=(8,6))\n",
    "plt.imshow(best_temp_temp_matrix, origin='lower', cmap='coolwarm', vmin=vmin, vmax=vmax)\n",
    "plt.title(\"Simulazione Migliore per TEMPERATURA - Heatmap della Temperatura Finale\")\n",
    "plt.xlabel(\"X\")\n",
    "plt.ylabel(\"Y\")\n",
    "cbar = plt.colorbar()\n",
    "cbar.set_label(\"Temperatura\")\n",
    "plt.tight_layout()\n",
    "plt.show()\n"
   ]
  },
  {
   "cell_type": "markdown",
   "id": "GT4Vp9r_tlhn",
   "metadata": {
    "id": "GT4Vp9r_tlhn"
   },
   "source": [
    "# ACO Definition"
   ]
  },
  {
   "cell_type": "markdown",
   "id": "GwVyvHUJyrvx",
   "metadata": {
    "id": "GwVyvHUJyrvx"
   },
   "source": []
  },
  {
   "cell_type": "code",
   "execution_count": null,
   "id": "P-W4j_JOyrYb",
   "metadata": {
    "id": "P-W4j_JOyrYb"
   },
   "outputs": [],
   "source": [
    "# ===============================================================\n",
    "# 4.  Evaluation Function with Hot Cluster-Based Cooling\n",
    "# ===============================================================\n",
    "def evaluate_solution(solution, temp_matrix, cluster_grid, alpha=1.0, beta=1.0):\n",
    "    \"\"\"Calculate the objective function using Gaussian cooling effects on hot regions.\"\"\"\n",
    "    final_temp = np.array(temp_matrix)  # Copy of the original temperature grid\n",
    "    H, W = final_temp.shape\n",
    "    Y, X = np.meshgrid(np.arange(H), np.arange(W), indexing=\"ij\")\n",
    "\n",
    "    # Apply cooling effects from each tree\n",
    "    for tree, (row_center, col_center) in solution:\n",
    "        props = tree_properties[tree]\n",
    "        sigma = props[\"radius\"] / 2.0  # Gaussian decay\n",
    "\n",
    "        dist2 = (Y - row_center) ** 2 + (X - col_center) ** 2\n",
    "        effect = props[\"cooling\"] * np.exp(-dist2 / (2 * sigma ** 2))\n",
    "\n",
    "        final_temp -= effect  # Apply cooling\n",
    "\n",
    "    # Calculate temperature reductions\n",
    "    mean_temp_reduction = np.sum(temp_matrix - final_temp)\n",
    "\n",
    "    # Compute heat island impact (using hot clusters)\n",
    "    heat_island_reduction = 0\n",
    "    for row, col in np.argwhere(cluster_grid >= 0):  # Hot regions from DBSCAN\n",
    "        heat_island_reduction += (temp_matrix[row, col] - final_temp[row, col]) * 1.5\n",
    "\n",
    "    return alpha * mean_temp_reduction + beta * heat_island_reduction\n",
    "\n",
    "# ===============================================================\n",
    "# 4a.  check budget constraint\n",
    "# ===============================================================\n",
    "def evaluate_used_budget(tree_placement, budget_max, tree_properties, cost_factor=1.5):\n",
    "    \"\"\"Evaluate the used budget after placing trees.\"\"\"\n",
    "    total_cost = 0\n",
    "\n",
    "    # Loop through all tree placements and accumulate the costs\n",
    "    for tree, (row, col) in tree_placement:\n",
    "        cost_factor = cost_factor if type_matrix[row, col] == 1 else 1.0  # Apply road cost factor if placed on roads\n",
    "        tree_cost = tree_properties[tree][\"cost\"] * cost_factor  # Get cost of tree considering the cost factor\n",
    "        total_cost += tree_cost\n",
    "\n",
    "    # Evaluate remaining budget\n",
    "    remaining_budget = budget_max - total_cost\n",
    "    return total_cost, remaining_budget"
   ]
  },
  {
   "cell_type": "markdown",
   "id": "lbzBzVtctlho",
   "metadata": {
    "id": "lbzBzVtctlho",
    "jp-MarkdownHeadingCollapsed": true
   },
   "source": [
    "### decisional vectomr definition"
   ]
  },
  {
   "cell_type": "code",
   "execution_count": null,
   "id": "jvNWtqQ-tlho",
   "metadata": {
    "id": "jvNWtqQ-tlho"
   },
   "outputs": [],
   "source": [
    "# ===============================================================\n",
    "# 5. Definition of update pheromone and probabilistic selection\n",
    "# ===============================================================\n",
    "def update_pheromone(best_solution, pheromone, evaporation_rate=0.1, reinforcement=1.0):\n",
    "    \"\"\"Update pheromone levels with evaporation and reinforcement.\"\"\"\n",
    "\n",
    "    # 1. Evaporation step (applies to all cells)\n",
    "    pheromone *= (1 - evaporation_rate)\n",
    "\n",
    "    # 2. Reinforcement step (only apply to tree placements)\n",
    "    for tree, (row, col) in best_solution:\n",
    "        pheromone[row, col] += reinforcement\n",
    "\n",
    "def probabilistic_selection(type_matrix, pheromone, budget_remaining):\n",
    "    \"\"\"Choose a cell and tree species based on pheromone levels and constraints.\"\"\"\n",
    "    feasible_choices = []\n",
    "\n",
    "    H, W = type_matrix.shape  # Grid size\n",
    "    for row in range(H):\n",
    "        for col in range(W):\n",
    "            if type_matrix[row, col] not in {1, 2}:  # Trees only on roads (1) & green spaces (2)\n",
    "                continue\n",
    "\n",
    "            for tree in tree_properties.keys():\n",
    "                if tree_properties[tree]['cost'] <= budget_remaining:\n",
    "                    probability = pheromone[row, col] * tree_properties[tree]['cooling']\n",
    "                    feasible_choices.append((tree, (row, col), probability))\n",
    "\n",
    "    if not feasible_choices:\n",
    "        return None, None\n",
    "\n",
    "    # Weighted random choice\n",
    "    trees, indices, probabilities = zip(*feasible_choices)\n",
    "    chosen_idx = random.choices(range(len(feasible_choices)), weights=probabilities, k=1)[0]\n",
    "    return trees[chosen_idx], indices[chosen_idx]"
   ]
  },
  {
   "cell_type": "markdown",
   "id": "J8ZgODG-tlho",
   "metadata": {
    "id": "J8ZgODG-tlho"
   },
   "source": [
    "### Algorhitm parameter"
   ]
  },
  {
   "cell_type": "code",
   "execution_count": null,
   "id": "2dbTzW9Stlhp",
   "metadata": {
    "id": "2dbTzW9Stlhp"
   },
   "outputs": [],
   "source": [
    "# ===============================================================\n",
    "# 5. Definition of ant colony optimization\n",
    "# ===============================================================\n",
    "# Improvements:\n",
    "# - apply pheromone levels for trees, i.e. initialize 1 for each tree in tree\n",
    "# properties. And then update based on solution (see block above function update pheromone and dependency probabilistic choice)\n",
    "# - try to tune params: evaporation rate and reinforcement -> algorithm can get\n",
    "# stuck really fast in solution at the moment (params line 13)\n",
    "# change output format from (tree,(row,col)) to (row, col, tree) (line 48 but also dependencies)\n",
    "def ant_colony_optimization(type_matrix, temp_matrix, tree_properties,\n",
    "                            iterations=200, num_ants=10,\n",
    "                            alpha=1.0, beta=1.0, cost_factor = 1.5,\n",
    "                            evaporation_rate=0.05, reinforcement = .3):\n",
    "    \"\"\"Ant Colony Optimization for tree placement with grid-based constraints.\"\"\"\n",
    "    cluster_grid,_ = get_heat_islands(temp_matrix)\n",
    "    min_tree_cost = min(tree[\"cost\"] for tree in tree_properties.values())\n",
    "\n",
    "    H, W = type_matrix.shape  # Grid dimensions\n",
    "    pheromone = np.ones((H, W))  # Initialize pheromone matrix\n",
    "    best_solution = []\n",
    "    best_quality = float('-inf')\n",
    "\n",
    "    for _ in range(iterations):\n",
    "        for _ in range(num_ants):\n",
    "            solution = []\n",
    "            budget_remaining = budget_max\n",
    "            used_cells = set()  # Track occupied cells\n",
    "\n",
    "            while budget_remaining >= min_tree_cost:\n",
    "                tree, (row, col) = probabilistic_selection(type_matrix, pheromone, budget_remaining)\n",
    "\n",
    "                if tree is None or (row, col) in used_cells:\n",
    "                    break  # No valid placement\n",
    "\n",
    "                # Apply road cost factor\n",
    "                cost_factor = cost_factor if type_matrix[row, col] == 1 else 1.0\n",
    "                tree_cost = tree_properties[tree][\"cost\"] * cost_factor\n",
    "\n",
    "                # Ensure budget allows placement\n",
    "                if budget_remaining >= tree_cost:\n",
    "                  solution.append((tree, (row, col)))\n",
    "                  used_cells.add((row, col))\n",
    "                  budget_remaining -= tree_cost\n",
    "\n",
    "            # Evaluate solution\n",
    "            quality = evaluate_solution(solution, temp_matrix, cluster_grid,\n",
    "                                        alpha,beta)\n",
    "            _, remaining_budget = evaluate_used_budget(solution, budget_max,tree_properties)\n",
    "            if quality > best_quality and remaining_budget > -1:\n",
    "                best_solution = solution\n",
    "                best_quality = quality\n",
    "\n",
    "        update_pheromone(best_solution,pheromone, evaporation_rate, reinforcement)\n",
    "\n",
    "    return best_solution\n",
    "\n"
   ]
  },
  {
   "cell_type": "code",
   "execution_count": null,
   "id": "38buUsP3xUIa",
   "metadata": {
    "colab": {
     "base_uri": "https://localhost:8080/"
    },
    "id": "38buUsP3xUIa",
    "outputId": "cdbba3a9-32ab-40a4-c85f-4d34f0bed013"
   },
   "outputs": [],
   "source": [
    "# Run ACO\n",
    "normal_placement =  ant_colony_optimization(type_matrix, temp_matrix,tree_properties)\n",
    "heat_island_placement = ant_colony_optimization(type_matrix, temp_matrix,tree_properties, beta=10)\n",
    "overall_placement = ant_colony_optimization(type_matrix, temp_matrix,tree_properties, alpha=10)\n",
    "tree_placements = [normal_placement, heat_island_placement, overall_placement]\n",
    "\n",
    "for placement in tree_placements:\n",
    "    print(f'Number of trees in placement: {len(placement)}')"
   ]
  },
  {
   "cell_type": "markdown",
   "id": "yxqaXgjD1m5s",
   "metadata": {
    "id": "yxqaXgjD1m5s"
   },
   "source": [
    "## Visualization\n"
   ]
  },
  {
   "cell_type": "code",
   "execution_count": null,
   "id": "4cGzxvWa1qfN",
   "metadata": {
    "colab": {
     "base_uri": "https://localhost:8080/",
     "height": 499
    },
    "id": "4cGzxvWa1qfN",
    "outputId": "9ffa3873-f78f-4390-cbcc-f0f45f790ed5"
   },
   "outputs": [],
   "source": [
    "# Define tree symbols\n",
    "tree_symbols = {0: \"A\", 1: \"B\"}\n",
    "\n",
    "import numpy as np\n",
    "import matplotlib.pyplot as plt\n",
    "\n",
    "def visualize_tree_placements(type_matrix, temp_matrix, tree_configurations):\n",
    "    \"\"\"Visualize initial and optimized heat maps with tree placements for multiple configurations.\"\"\"\n",
    "    cluster_grid,_ = get_heat_islands(temp_matrix)\n",
    "    num_configurations = len(tree_configurations)\n",
    "    fig, axes = plt.subplots(1, num_configurations + 1, figsize=(6 * (num_configurations + 1), 6))\n",
    "\n",
    "    # Initial Heat Map\n",
    "    ax1 = axes[0]\n",
    "    im1 = ax1.imshow(temp_matrix, cmap='coolwarm', interpolation='nearest', vmin=temp_matrix.min(), vmax=temp_matrix.max())\n",
    "    ax1.set_title(\"Initial Heat Map\")\n",
    "    ax1.axis('off')\n",
    "\n",
    "    # Loop through each tree configuration and create a separate plot\n",
    "    for i, tree_placements in enumerate(tree_configurations):\n",
    "        updated_temp = np.array(temp_matrix)  # Copy the original temperature matrix\n",
    "        H, W = updated_temp.shape\n",
    "        Y, X = np.meshgrid(np.arange(H), np.arange(W), indexing=\"ij\")\n",
    "\n",
    "        # Apply Tree Cooling Effects for the specific configuration\n",
    "        for tree, (row_center, col_center) in tree_placements:\n",
    "            props = tree_properties[tree]\n",
    "            sigma = props[\"radius\"] / 2.0  # Gaussian decay spread\n",
    "\n",
    "            # Compute squared distance from tree location\n",
    "            dist2 = (Y - row_center) ** 2 + (X - col_center) ** 2\n",
    "\n",
    "            # Apply cooling effect with Gaussian decay\n",
    "            effect = props[\"cooling\"] * np.exp(-dist2 / (2 * sigma**2))\n",
    "            updated_temp -= effect\n",
    "\n",
    "        # Create a subplot for this configuration\n",
    "        ax = axes[i + 1]\n",
    "        im = ax.imshow(updated_temp, cmap='coolwarm', interpolation='nearest', vmin=temp_matrix.min(), vmax=temp_matrix.max())\n",
    "        ax.set_title(f\"Tree Configuration {i+1} - Optimized Heat Map\")\n",
    "        ax.axis('off')\n",
    "\n",
    "        # Overlay Trees as Letters\n",
    "        for tree, (row, col) in tree_placements:\n",
    "            ax.text(col, row, tree_symbols.get(tree, \"?\"), ha=\"center\", va=\"center\",\n",
    "                    fontsize=10, color=\"black\", fontweight=\"bold\")\n",
    "\n",
    "        # Compute Mean Temperatures\n",
    "        overall_mean = np.mean(updated_temp)\n",
    "        hotspot_mean = np.mean(updated_temp[cluster_grid >= 0])  # Only hot region clusters\n",
    "\n",
    "        # Add Text Box with Statistics\n",
    "        text_props = dict(boxstyle=\"round,pad=0.3\", edgecolor=\"black\", facecolor=\"white\", alpha=0.8)\n",
    "        ax.text(0.02, 0.95, f\"Mean Temp: {overall_mean:.2f}°C\\nHotspot Temp: {hotspot_mean:.2f}°C\",\n",
    "                transform=ax.transAxes, fontsize=10, verticalalignment='top', bbox=text_props)\n",
    "\n",
    "    # Shared Color Bar\n",
    "    fig.colorbar(im, ax=axes, orientation='vertical', fraction=0.02, pad=0.05, label=\"Temperature (°C)\")\n",
    "\n",
    "    plt.show()\n",
    "\n",
    "\n",
    "# Call the visualization function\n",
    "visualize_tree_placements(type_matrix, temp_matrix, tree_placements)"
   ]
  },
  {
   "cell_type": "code",
   "execution_count": null,
   "id": "IEa92gjDktjG",
   "metadata": {
    "colab": {
     "base_uri": "https://localhost:8080/"
    },
    "id": "IEa92gjDktjG",
    "outputId": "d8c1093e-4539-48c3-be65-1379e7c30ddd"
   },
   "outputs": [],
   "source": [
    "for placement in tree_placements:\n",
    "    total_cost, remaining_budget = evaluate_used_budget(placement, budget_max,tree_properties)\n",
    "    print(f\"Total Cost: {total_cost}, Remaining Budget: {remaining_budget}\")"
   ]
  }
 ],
 "metadata": {
  "colab": {
   "provenance": []
  },
  "kernelspec": {
   "display_name": "Python 3 (ipykernel)",
   "language": "python",
   "name": "python3"
  },
  "language_info": {
   "codemirror_mode": {
    "name": "ipython",
    "version": 3
   },
   "file_extension": ".py",
   "mimetype": "text/x-python",
   "name": "python",
   "nbconvert_exporter": "python",
   "pygments_lexer": "ipython3",
   "version": "3.12.4"
  }
 },
 "nbformat": 4,
 "nbformat_minor": 5
}
